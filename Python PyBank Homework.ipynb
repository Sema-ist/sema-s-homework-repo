{
 "cells": [
  {
   "cell_type": "code",
   "execution_count": 28,
   "metadata": {},
   "outputs": [
    {
     "name": "stdout",
     "output_type": "stream",
     "text": [
      "Financial Analysis\n",
      "------------------------------------------------------\n",
      "Total Months: 127\n",
      "Total Revenue: $55945323\n",
      "Average Revenue Change: $5305.253968253968\n",
      "Greatest increase in revenue: Jun-13 ($2032579.0)\n",
      "Greatest decrease in revenue: Jun-15 ($-2120643.0)\n"
     ]
    }
   ],
   "source": [
    "import pandas as pd\n",
    "\n",
    "csvpath1= 'budget_data_1.csv'\n",
    "csvpath2= 'budget_data_2.csv'\n",
    "\n",
    "budget_data_1 = pd.read_csv(csvpath1)\n",
    "\n",
    "budget_data_2 = pd.read_csv(csvpath2)\n",
    "\n",
    "budget_data = pd.concat([budget_data_1, budget_data_2])\n",
    "\n",
    "total_number_of_months = budget_data['Date'].nunique()\n",
    "\n",
    "\n",
    "total_revenue = budget_data['Revenue'].sum()\n",
    "\n",
    "\n",
    "budget_data = budget_data.sort_values('Date')\n",
    "\n",
    "month_to_month_change = (budget_data['Revenue'].shift()-budget_data['Revenue'])\n",
    "\n",
    "average_change_in_revenue = month_to_month_change.mean()\n",
    "\n",
    "greatest_increase_in_revenue = month_to_month_change.max()\n",
    "greatest_increase_month = budget_data.loc[month_to_month_change.idxmax(),'Date'].iloc[0]\n",
    "\n",
    "\n",
    "greatest_decrease_in_revenue = month_to_month_change.min()\n",
    "greatest_decrease_month = budget_data.loc[month_to_month_change.idxmin(),'Date'].iloc[0]\n",
    "\n",
    "outfile = open('results.txt', 'w')    \n",
    "outfile.write(\"Financial Analysis\\n\")\n",
    "outfile.write(\"------------------------------------------------------\\n\")\n",
    "outfile.write(\"Total Months: \" + str(total_number_of_months) + '\\n')\n",
    "outfile.write(\"Total Revenue: $\" + str(total_revenue) + '\\n')\n",
    "outfile.write(\"Total Revenue: $\" + str(average_change_in_revenue) + '\\n')\n",
    "outfile.write(\"Greatest increase in revenue: \" + str(greatest_increase_month) + ' ($' + str(greatest_increase_in_revenue) + ')' + '\\n')\n",
    "outfile.write(\"Greatest decrease in revenue: \" + str(greatest_decrease_month) + ' ($' + str(greatest_decrease_in_revenue) + ')' + '\\n')\n",
    "outfile.close()\n",
    "         \n",
    "print(\"Financial Analysis\")\n",
    "print(\"------------------------------------------------------\")\n",
    "print(\"Total Months: \" + str(total_number_of_months))\n",
    "print(\"Total Revenue: $\" + str(total_revenue))\n",
    "print(\"Average Revenue Change: $\" + str(average_change_in_revenue))\n",
    "print(\"Greatest increase in revenue: \" + str(greatest_increase_month) + ' ($' + str(greatest_increase_in_revenue) + ')')\n",
    "print(\"Greatest decrease in revenue: \" + str(greatest_decrease_month) + ' ($' + str(greatest_decrease_in_revenue) + ')')"
   ]
  },
  {
   "cell_type": "code",
   "execution_count": null,
   "metadata": {},
   "outputs": [],
   "source": []
  },
  {
   "cell_type": "code",
   "execution_count": null,
   "metadata": {
    "collapsed": true
   },
   "outputs": [],
   "source": []
  },
  {
   "cell_type": "code",
   "execution_count": null,
   "metadata": {},
   "outputs": [],
   "source": []
  },
  {
   "cell_type": "code",
   "execution_count": null,
   "metadata": {
    "collapsed": true
   },
   "outputs": [],
   "source": []
  },
  {
   "cell_type": "code",
   "execution_count": null,
   "metadata": {
    "collapsed": true
   },
   "outputs": [],
   "source": []
  },
  {
   "cell_type": "code",
   "execution_count": null,
   "metadata": {
    "collapsed": true
   },
   "outputs": [],
   "source": []
  },
  {
   "cell_type": "code",
   "execution_count": null,
   "metadata": {
    "collapsed": true
   },
   "outputs": [],
   "source": []
  },
  {
   "cell_type": "code",
   "execution_count": null,
   "metadata": {
    "collapsed": true
   },
   "outputs": [],
   "source": []
  }
 ],
 "metadata": {
  "kernelspec": {
   "display_name": "Python [conda env:PythonData]",
   "language": "python",
   "name": "conda-env-PythonData-py"
  },
  "language_info": {
   "codemirror_mode": {
    "name": "ipython",
    "version": 3
   },
   "file_extension": ".py",
   "mimetype": "text/x-python",
   "name": "python",
   "nbconvert_exporter": "python",
   "pygments_lexer": "ipython3",
   "version": "3.6.3"
  }
 },
 "nbformat": 4,
 "nbformat_minor": 2
}
