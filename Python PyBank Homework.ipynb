{
 "cells": [
  {
   "cell_type": "code",
   "execution_count": 2,
   "metadata": {},
   "outputs": [
    {
     "name": "stdout",
     "output_type": "stream",
     "text": [
      "Financial Analysis\n",
      "------------------------------------------------------\n",
      "Total Months: 12\n",
      "Total Revenue: $18971412\n",
      "Greatest increase in revenue: Sep-15 ($1195111)\n",
      "Greatest decrease in revenue: Aug-14 ($-1172384)\n"
     ]
    }
   ],
   "source": [
    "import os\n",
    "csvpath=os.path.join(r'budget_data_1.csv')\n",
    "import csv\n",
    "\n",
    "with open(csvpath, 'r') as csvfile:\n",
    "   csvreader = csv.reader(csvfile, delimiter=',')\n",
    "\n",
    "   next(csvreader)\n",
    "   revenue_dic = {}    \n",
    "   budget_data_dic = {}\n",
    "   for row in csvreader:\n",
    "       budget_data_dic[row[0]] = int(row[1])\n",
    "       month, day = row[0].split('-')\n",
    "       if month not in revenue_dic.keys():\n",
    "           revenue_dic[month] = int(row[1])\n",
    "       else:\n",
    "           revenue_dic[month] = revenue_dic[month] + int(row[1])\n",
    "\n",
    "\n",
    "revenues = []\n",
    "for value in revenue_dic.values():\n",
    "   revenues.append(value)\n",
    "\n",
    "\n",
    "revenue_change = []\n",
    "for i in range(len(revenues)):\n",
    "     if i < len(revenues) - 1:\n",
    "        revenue_change.append(revenues[i+1] - revenues[i])\n",
    "   \n",
    "\n",
    "max_revenue = max(budget_data_dic.values())\n",
    "min_revenue = min(budget_data_dic.values())\n",
    "for key, revenue in budget_data_dic.items():\n",
    "   if revenue == max_revenue:\n",
    "       max_date = key\n",
    "   if revenue == min_revenue:\n",
    "       min_date = key\n",
    "   \n",
    "fid = open('results.txt', 'w')    \n",
    "fid.write(\"Financial Analysis\\n\")\n",
    "fid.write(\"------------------------------------------------------\\n\")\n",
    "fid.write(\"Total Months: \" + str(len(revenue_dic.keys())) + '\\n')\n",
    "fid.write(\"Total Revenue: $\" + str(sum(revenue_dic.values())) + '\\n')\n",
    "fid.write(\"Greatest increase in revenue: \" + max_date + ' ($' + str(max_revenue) + ')' + '\\n')\n",
    "fid.write(\"Greatest decrease in revenue: \" + min_date + ' ($' + str(min_revenue) + ')' + '\\n')\n",
    "fid.close()\n",
    "         \n",
    "print(\"Financial Analysis\")\n",
    "print(\"------------------------------------------------------\")\n",
    "print(\"Total Months: \" + str(len(revenue_dic.keys())))\n",
    "print(\"Total Revenue: $\" + str(sum(revenue_dic.values())))\n",
    "print(\"Greatest increase in revenue: \" + max_date + ' ($' + str(max_revenue) + ')')\n",
    "print(\"Greatest decrease in revenue: \" + min_date + ' ($' + str(min_revenue) + ')')"
   ]
  },
  {
   "cell_type": "code",
   "execution_count": null,
   "metadata": {
    "collapsed": true
   },
   "outputs": [],
   "source": []
  },
  {
   "cell_type": "code",
   "execution_count": null,
   "metadata": {},
   "outputs": [],
   "source": []
  },
  {
   "cell_type": "code",
   "execution_count": null,
   "metadata": {
    "collapsed": true
   },
   "outputs": [],
   "source": []
  },
  {
   "cell_type": "code",
   "execution_count": null,
   "metadata": {},
   "outputs": [],
   "source": []
  },
  {
   "cell_type": "code",
   "execution_count": null,
   "metadata": {},
   "outputs": [],
   "source": []
  },
  {
   "cell_type": "code",
   "execution_count": null,
   "metadata": {},
   "outputs": [],
   "source": []
  },
  {
   "cell_type": "code",
   "execution_count": null,
   "metadata": {},
   "outputs": [],
   "source": []
  },
  {
   "cell_type": "code",
   "execution_count": null,
   "metadata": {
    "collapsed": true
   },
   "outputs": [],
   "source": []
  }
 ],
 "metadata": {
  "kernelspec": {
   "display_name": "Python [conda env:PythonData]",
   "language": "python",
   "name": "conda-env-PythonData-py"
  },
  "language_info": {
   "codemirror_mode": {
    "name": "ipython",
    "version": 3
   },
   "file_extension": ".py",
   "mimetype": "text/x-python",
   "name": "python",
   "nbconvert_exporter": "python",
   "pygments_lexer": "ipython3",
   "version": "3.6.3"
  }
 },
 "nbformat": 4,
 "nbformat_minor": 2
}
